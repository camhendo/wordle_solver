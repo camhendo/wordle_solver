{
 "cells": [
  {
   "cell_type": "code",
   "execution_count": 31,
   "metadata": {},
   "outputs": [],
   "source": [
    "import pandas as pd\n",
    "import numpy as np\n",
    "from collections import Counter"
   ]
  },
  {
   "cell_type": "code",
   "execution_count": 83,
   "metadata": {},
   "outputs": [],
   "source": [
    "# run this command in a terminal in the location where you want to put your wordle guesser\n",
    "# perl -nle 'print if /^[a-z]{5}$/' /usr/share/dict/words > words5.txt"
   ]
  },
  {
   "cell_type": "code",
   "execution_count": 194,
   "metadata": {},
   "outputs": [],
   "source": [
    "file = open('words5.txt','r')\n",
    "wordlist = file.read().split('\\n')\n",
    "\n",
    "wordstring= ''.join(wordlist)\n",
    "letter_freqs = Counter(wordstring)\n",
    "lf = dict(letter_freqs.most_common(26))\n",
    "\n",
    "class WordleHelper():\n",
    "\n",
    "    def __init__(self, wordlist, letter_freqs):\n",
    "        self.guess = []\n",
    "        self.g_ans = []\n",
    "        self.n_letters = []\n",
    "        self.y_letters = []\n",
    "        self.g_letters = []\n",
    "        self.letter_freqs = letter_freqs\n",
    "        self.logged_wordlists = {'initial':wordlist}\n",
    "        self.wordlist = wordlist\n",
    "    \n",
    "    def reset(self):\n",
    "        self.wordlist = self.logged_wordlists['inital']\n",
    "        self.guess = []\n",
    "        self.g_ans = []\n",
    "        self.n_letters = []\n",
    "        self.y_letters = []\n",
    "        self.g_letters = []\n",
    "\n",
    "    def make_guess(self, guess, g_ans):\n",
    "        if guess in self.logged_wordlists['initial'] or guess == 'roate':\n",
    "            for x, letter in enumerate(guess):\n",
    "                if g_ans[x] == 'n':\n",
    "                    if letter in self.n_letters:\n",
    "                        continue\n",
    "                    self.n_letters.append(letter)\n",
    "                elif g_ans[x] == 'y':\n",
    "                    new_item = []\n",
    "                    for item in self.y_letters:\n",
    "                        if letter == item[1]:\n",
    "                            new_item = list(item[0]).append(x)\n",
    "                            self.y_letters.remove(item)\n",
    "                    if new_item:\n",
    "                        self.y_letters.append((new_item,letter))\n",
    "                    self.y_letters.append(([x],letter))\n",
    "                elif g_ans[x] == 'g':\n",
    "                    for item in self.y_letters:\n",
    "                        if letter == item[1]:\n",
    "                            self.y_letters.remove(item)\n",
    "                    self.g_letters.append((x,letter))\n",
    "        else:\n",
    "            return 'Guess is not in dictionary'\n",
    "        self.guess = guess\n",
    "        self.g_ans = g_ans\n",
    "        possible_answers = list(filter(self.possibilities,self.wordlist))\n",
    "        self.logged_wordlists[guess] = possible_answers\n",
    "        self.wordlist = possible_answers\n",
    "        return self.word_scores(possible_answers)\n",
    "\n",
    "    def possibilities(self, element):\n",
    "        possible = True\n",
    "        if len(element) != 5:\n",
    "            return False\n",
    "        for n in self.n_letters:\n",
    "            if n in element:\n",
    "                return False\n",
    "        for y in self.y_letters:\n",
    "            options = [0,1,2,3,4]\n",
    "            for x in y[0]:\n",
    "                options.remove(x)\n",
    "                if y[1] == element[x]:\n",
    "                    return False\n",
    "            temp = False\n",
    "            for x, o in enumerate(options):\n",
    "                if y[1] != element[o]:\n",
    "                    continue\n",
    "                else:\n",
    "                    temp = True\n",
    "            if temp == False:\n",
    "                return False\n",
    "        for g in self.g_letters:\n",
    "            if g[1] != element[g[0]]:\n",
    "                return False\n",
    "        return possible\n",
    "\n",
    "    def word_scores(self,possible_answers):\n",
    "        scores = {}\n",
    "        for word in possible_answers:\n",
    "            x = 0 \n",
    "            for letter in word:\n",
    "                x = x + self.letter_freqs[letter]\n",
    "            scores[word] = x\n",
    "\n",
    "        return sorted(scores.items(), key=lambda x: x[1], reverse=True)"
   ]
  },
  {
   "cell_type": "code",
   "execution_count": 203,
   "metadata": {},
   "outputs": [],
   "source": [
    "game = WordleHelper(wordlist,lf)\n"
   ]
  },
  {
   "cell_type": "code",
   "execution_count": 204,
   "metadata": {},
   "outputs": [
    {
     "data": {
      "text/plain": [
       "[('ileac', 15217),\n",
       " ('eniac', 15063),\n",
       " ('amice', 14150),\n",
       " ('iliac', 13543),\n",
       " ('tical', 13343),\n",
       " ('lilac', 13330),\n",
       " ('icica', 12721),\n",
       " ('baioc', 12557),\n",
       " ('sicca', 12523),\n",
       " ('ticca', 12521),\n",
       " ('licca', 12508),\n",
       " ('dicta', 12374),\n",
       " ('spica', 12270),\n",
       " ('pical', 12255),\n",
       " ('plica', 12255),\n",
       " ('sifac', 11638),\n",
       " ('quica', 10559),\n",
       " ('avick', 9942)]"
      ]
     },
     "execution_count": 204,
     "metadata": {},
     "output_type": "execute_result"
    }
   ],
   "source": [
    "# n = not in word\n",
    "# y = yellow letter\n",
    "# g = green letter\n",
    "\n",
    "game.make_guess('chair','ynyyn')\n"
   ]
  }
 ],
 "metadata": {
  "interpreter": {
   "hash": "aee8b7b246df8f9039afb4144a1f6fd8d2ca17a180786b69acc140d282b71a49"
  },
  "kernelspec": {
   "display_name": "Python 3.9.7 64-bit",
   "language": "python",
   "name": "python3"
  },
  "language_info": {
   "codemirror_mode": {
    "name": "ipython",
    "version": 3
   },
   "file_extension": ".py",
   "mimetype": "text/x-python",
   "name": "python",
   "nbconvert_exporter": "python",
   "pygments_lexer": "ipython3",
   "version": "3.9.7"
  },
  "orig_nbformat": 4
 },
 "nbformat": 4,
 "nbformat_minor": 2
}
